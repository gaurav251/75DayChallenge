{
 "cells": [
  {
   "cell_type": "markdown",
   "metadata": {},
   "source": [
    "Given an array of integers `nums` and an integer `target`, return _indices of the two numbers such that they add up to `target`._\n",
    "\n",
    "You may assume that each input would have **_exactly one solution_**, and you may not use the _same_ element twice.\n",
    "\n",
    "You can return the answer in any order.\n",
    "\n",
    "#### Example 1:\n",
    "\n",
    "```\n",
    "Input: nums = [2,7,11,15], target = 9\n",
    "Output: [0,1]\n",
    "Explanation: Because nums[0] + nums[1] == 9, we return [0, 1].\n",
    "```\n",
    "\n",
    "#### Example 2:\n",
    "\n",
    "```\n",
    "Input: nums = [3,2,4], target = 6\n",
    "Output: [1,2]\n",
    "```\n",
    "\n",
    "#### Example 3:\n",
    "\n",
    "```\n",
    "Input: nums = [3,3], target = 6\n",
    "Output: [0,1]\n",
    "```\n",
    "\n",
    "Constraints:\n",
    "\n",
    "- `2 <= nums.length <= 104`\n",
    "- `-109 <= nums[i] <= 109`\n",
    "- `-109 <= target <= 109`\n",
    "- **Only one valid answer exists.**\n",
    "\n",
    "**Follow-up:** Can you come up with an algorithm that is less than `O(n2)` time complexity?\n"
   ]
  },
  {
   "cell_type": "code",
   "execution_count": null,
   "metadata": {},
   "outputs": [],
   "source": [
    "# class Solution:\n",
    "#     def twoSum(self, nums: List[int], target: int) -> List[int]:"
   ]
  },
  {
   "cell_type": "code",
   "execution_count": 15,
   "metadata": {},
   "outputs": [
    {
     "name": "stdout",
     "output_type": "stream",
     "text": [
      "[0, 1]\n",
      "--------------------\n",
      "[1, 2]\n",
      "--------------------\n",
      "[0, 1]\n",
      "--------------------\n"
     ]
    }
   ],
   "source": [
    "def twoSum(nums, target):\n",
    "    length = len(nums)\n",
    "\n",
    "    for i in range(length):\n",
    "        diff = target - nums[i]\n",
    "        flag = 0\n",
    "\n",
    "        for j in range(i + 1, length):\n",
    "            if nums[j] == diff:\n",
    "                flag = 1\n",
    "                break\n",
    "\n",
    "        # if diff in nums[i + 1 :]:\n",
    "        #     flag = 1\n",
    "        #     j = nums.index(diff)\n",
    "\n",
    "        #     break\n",
    "\n",
    "        if flag == 1:\n",
    "            # j = nums.index(diff)\n",
    "            return [i, j]\n",
    "\n",
    "\n",
    "print(twoSum(nums=[2, 7, 11, 15], target=9))\n",
    "print(\"-\" * 20)\n",
    "print(twoSum(nums=[3, 2, 4], target=6))\n",
    "print(\"-\" * 20)\n",
    "print(twoSum(nums=[3, 3], target=6))\n",
    "print(\"-\" * 20)"
   ]
  },
  {
   "cell_type": "code",
   "execution_count": null,
   "metadata": {},
   "outputs": [
    {
     "name": "stdout",
     "output_type": "stream",
     "text": [
      "[0, 1]\n",
      "--------------------\n",
      "[1, 2]\n",
      "--------------------\n",
      "[0, 1]\n",
      "--------------------\n"
     ]
    }
   ],
   "source": [
    "def twoSum(nums, target):\n",
    "    length = len(nums)\n",
    "\n",
    "    for i in range(length):\n",
    "        # Differnce of target and current\n",
    "        diff = target - nums[i]\n",
    "\n",
    "        # Flag if the number is found\n",
    "        flag = 0\n",
    "\n",
    "        for j in range(i + 1, length):\n",
    "            if nums[j] == diff:\n",
    "                flag = 1\n",
    "                break\n",
    "\n",
    "        if flag == 1:\n",
    "            return [i, j]\n",
    "\n",
    "\n",
    "print(twoSum(nums=[2, 7, 11, 15], target=9))\n",
    "print(\"-\" * 20)\n",
    "print(twoSum(nums=[3, 2, 4], target=6))\n",
    "print(\"-\" * 20)\n",
    "print(twoSum(nums=[3, 3], target=6))\n",
    "print(\"-\" * 20)"
   ]
  },
  {
   "cell_type": "code",
   "execution_count": 21,
   "metadata": {},
   "outputs": [
    {
     "name": "stdout",
     "output_type": "stream",
     "text": [
      "[0, 1]\n",
      "--------------------\n",
      "[1, 2]\n",
      "--------------------\n",
      "[0, 1]\n",
      "--------------------\n"
     ]
    }
   ],
   "source": [
    "def twoSum(nums, target):\n",
    "    size = len(nums)\n",
    "\n",
    "    for i in range(size):\n",
    "        first = nums[i]\n",
    "        second = target - first\n",
    "\n",
    "        if second in nums[i + 1 :]:\n",
    "            j = nums[i + 1 :].index(second)\n",
    "            break\n",
    "\n",
    "    return [i, i + j + 1]\n",
    "\n",
    "\n",
    "print(twoSum(nums=[2, 7, 11, 15], target=9))\n",
    "print(\"-\" * 20)\n",
    "print(twoSum(nums=[3, 2, 4], target=6))\n",
    "print(\"-\" * 20)\n",
    "print(twoSum(nums=[3, 3], target=6))\n",
    "print(\"-\" * 20)"
   ]
  },
  {
   "cell_type": "code",
   "execution_count": 14,
   "metadata": {},
   "outputs": [
    {
     "name": "stdout",
     "output_type": "stream",
     "text": [
      "[1, 0]\n",
      "--------------------\n",
      "[2, 1]\n",
      "--------------------\n",
      "[5, 4]\n",
      "--------------------\n",
      "[1, 0]\n",
      "--------------------\n"
     ]
    }
   ],
   "source": [
    "# def twoSum(nums, target):\n",
    "#     n = len(nums)\n",
    "#     hash_map = {}\n",
    "#     for i in range(n):\n",
    "#         first = nums[i]\n",
    "#         second = target - first\n",
    "#         if second in hash_map.keys():\n",
    "#             return [i, hash_map[second]]\n",
    "#         else:\n",
    "#             hash_map[nums[i]] = i\n",
    "def twoSum(nums, target):\n",
    "    # n = len(nums)\n",
    "    hash_map = {}\n",
    "    for i, v in enumerate(nums):\n",
    "        a = v\n",
    "        b = target - a\n",
    "        if b in hash_map.keys():\n",
    "            return [i, hash_map[b]]\n",
    "\n",
    "        else:\n",
    "            hash_map[v] = i\n",
    "\n",
    "\n",
    "print(twoSum(nums=[2, 7, 11, 15], target=9))\n",
    "print(\"-\" * 20)\n",
    "print(twoSum(nums=[3, 2, 4], target=6))\n",
    "print(\"-\" * 20)\n",
    "print(twoSum(nums=[0, 5, 6, 8, 2, 7], target=9))\n",
    "print(\"-\" * 20)\n",
    "print(twoSum(nums=[3, 3], target=6))\n",
    "print(\"-\" * 20)"
   ]
  },
  {
   "cell_type": "code",
   "execution_count": 11,
   "metadata": {},
   "outputs": [
    {
     "name": "stdout",
     "output_type": "stream",
     "text": [
      "(0, 0)\n",
      "(1, 5)\n",
      "(2, 6)\n",
      "(3, 8)\n",
      "(4, 2)\n",
      "(5, 7)\n"
     ]
    }
   ],
   "source": [
    "nums = [0, 5, 6, 8, 2, 7]\n",
    "for i, v in enumerate(nums):\n",
    "    print((i, v))"
   ]
  },
  {
   "cell_type": "code",
   "execution_count": null,
   "metadata": {},
   "outputs": [],
   "source": []
  },
  {
   "cell_type": "code",
   "execution_count": null,
   "metadata": {},
   "outputs": [],
   "source": []
  },
  {
   "cell_type": "code",
   "execution_count": null,
   "metadata": {},
   "outputs": [],
   "source": []
  },
  {
   "cell_type": "code",
   "execution_count": null,
   "metadata": {},
   "outputs": [],
   "source": []
  },
  {
   "cell_type": "code",
   "execution_count": null,
   "metadata": {},
   "outputs": [],
   "source": []
  },
  {
   "cell_type": "code",
   "execution_count": null,
   "metadata": {},
   "outputs": [],
   "source": []
  }
 ],
 "metadata": {
  "interpreter": {
   "hash": "33b7cb55c654857b0de4402a884e0da8016438b77c2fbc92d265287ba7886d8f"
  },
  "kernelspec": {
   "display_name": "Python 3.9.10 64-bit",
   "language": "python",
   "name": "python3"
  },
  "language_info": {
   "codemirror_mode": {
    "name": "ipython",
    "version": 3
   },
   "file_extension": ".py",
   "mimetype": "text/x-python",
   "name": "python",
   "nbconvert_exporter": "python",
   "pygments_lexer": "ipython3",
   "version": "3.9.10"
  },
  "orig_nbformat": 4
 },
 "nbformat": 4,
 "nbformat_minor": 2
}
